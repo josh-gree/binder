{
 "cells": [
  {
   "cell_type": "markdown",
   "metadata": {},
   "source": [
    "# Germany: LK Göttingen (alt) (Niedersachsen) \n",
    "\n",
    "* Homepage of project: https://fangohr.github.io/coronavirus\n",
    "\n",
    "* [Execute this Jupyter Notebook on Binderhub](https://mybinder.org/v2/gh/fangohr/coronavirus/master?filepath=ipynb/Germany-Niedersachsen-LK-Göttingen-(alt).ipynb)"
   ]
  },
  {
   "cell_type": "code",
   "execution_count": null,
   "metadata": {},
   "outputs": [],
   "source": [
    "%config InlineBackend.figure_formats = ['svg']\n",
    "from coronavirus import *\n",
    "land = \"Niedersachsen\"\n",
    "kreis = \"LK Göttingen (alt)\""
   ]
  },
  {
   "cell_type": "code",
   "execution_count": null,
   "metadata": {
    "scrolled": false
   },
   "outputs": [],
   "source": [
    "overview(country=\"Germany\", subregion=\"LK Göttingen (alt)\");"
   ]
  },
  {
   "cell_type": "code",
   "execution_count": null,
   "metadata": {},
   "outputs": [],
   "source": [
    "# load the data \n",
    "cases, deaths = germany_get_region(landkreis=kreis)\n",
    "\n",
    "# compose into one table\n",
    "table = compose_dataframe_summary(cases, deaths)\n",
    "\n",
    "# show tables with up to 200 rows\n",
    "pd.set_option(\"max_rows\", 200)  \n",
    "\n",
    "# display the table\n",
    "table"
   ]
  },
  {
   "cell_type": "markdown",
   "metadata": {},
   "source": [
    "# Explore the data in your web browser\n",
    "\n",
    "- If you want to execute this notebook, click [here](https://mybinder.org/v2/gh/fangohr/coronavirus/master?filepath=ipynb/Germany-Niedersachsen-LK-Göttingen-(alt).ipynb)\n",
    "- and wait (~1 to 2 minutes)\n",
    "- Then press SHIFT+RETURN to advance code cell to code cell\n",
    "- See http://jupyter.org for more details on how to use Jupyter Notebook"
   ]
  },
  {
   "cell_type": "code",
   "execution_count": null,
   "metadata": {},
   "outputs": [],
   "source": []
  },
  {
   "cell_type": "markdown",
   "metadata": {},
   "source": [
    "# Acknowledgements:\n",
    "\n",
    "- Johns Hopkins University provides data for countries\n",
    "- Robert Koch Institute provides data for within Germany\n",
    "- Open source and scientific computing community for the data tools\n",
    "- Github for hosting repository and html files\n",
    "- Project Jupyter for the Notebook and binder service\n",
    "- The H2020 project Photon and Neutron Open Science Cloud ([PaNOSC](https://www.panosc.eu/))\n",
    "\n",
    "--------------------\n",
    "\n",
    "- notebook creation time: 13/04/2020 08:54:37"
   ]
  },
  {
   "cell_type": "code",
   "execution_count": null,
   "metadata": {},
   "outputs": [],
   "source": [
    "print(f\"Download of data from Robert Koch Institute at {fetch_data_germany_last_execution()}.\")"
   ]
  }
 ],
 "metadata": {
  "anaconda-cloud": {},
  "kernelspec": {
   "display_name": "Python 3",
   "language": "python",
   "name": "python3"
  },
  "language_info": {
   "codemirror_mode": {
    "name": "ipython",
    "version": 3
   },
   "file_extension": ".py",
   "mimetype": "text/x-python",
   "name": "python",
   "nbconvert_exporter": "python",
   "pygments_lexer": "ipython3",
   "version": "3.7.4"
  }
 },
 "nbformat": 4,
 "nbformat_minor": 2
}
